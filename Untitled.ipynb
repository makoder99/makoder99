{
 "cells": [
  {
   "cell_type": "code",
   "execution_count": 1,
   "id": "f7d84571",
   "metadata": {},
   "outputs": [],
   "source": [
    "!pip install jovian --upgrade --quiet\n"
   ]
  },
  {
   "cell_type": "code",
   "execution_count": 2,
   "id": "f4e5016f",
   "metadata": {},
   "outputs": [
    {
     "data": {
      "application/javascript": [
       "if (window.IPython && IPython.notebook.kernel) IPython.notebook.kernel.execute('jovian.utils.jupyter.get_notebook_name_saved = lambda: \"' + IPython.notebook.notebook_name + '\"')"
      ],
      "text/plain": [
       "<IPython.core.display.Javascript object>"
      ]
     },
     "metadata": {},
     "output_type": "display_data"
    }
   ],
   "source": [
    "import jovian"
   ]
  },
  {
   "cell_type": "code",
   "execution_count": 3,
   "id": "4a4e124c",
   "metadata": {},
   "outputs": [
    {
     "data": {
      "application/javascript": [
       "window.require && require([\"base/js/namespace\"],function(Jupyter){Jupyter.notebook.save_checkpoint()})"
      ],
      "text/plain": [
       "<IPython.core.display.Javascript object>"
      ]
     },
     "metadata": {},
     "output_type": "display_data"
    },
    {
     "name": "stdout",
     "output_type": "stream",
     "text": [
      "[jovian] Please enter your API key ( from https://jovian.ai/ ):\n",
      "API KEY: ········\n",
      "[jovian] Creating a new project \"ignimakoo/first-steps-with-python\"\n",
      "[jovian] Committed successfully! https://jovian.ai/ignimakoo/first-steps-with-python\n"
     ]
    },
    {
     "data": {
      "text/plain": [
       "'https://jovian.ai/ignimakoo/first-steps-with-python'"
      ]
     },
     "execution_count": 3,
     "metadata": {},
     "output_type": "execute_result"
    }
   ],
   "source": [
    "jovian.commit(project='first-steps-with-python')"
   ]
  },
  {
   "cell_type": "code",
   "execution_count": 4,
   "id": "90778515",
   "metadata": {},
   "outputs": [
    {
     "data": {
      "text/plain": [
       "5"
      ]
     },
     "execution_count": 4,
     "metadata": {},
     "output_type": "execute_result"
    }
   ],
   "source": [
    "2 + 3\n"
   ]
  },
  {
   "cell_type": "code",
   "execution_count": 5,
   "id": "6c2c038b",
   "metadata": {},
   "outputs": [
    {
     "data": {
      "text/plain": [
       "66"
      ]
     },
     "execution_count": 5,
     "metadata": {},
     "output_type": "execute_result"
    }
   ],
   "source": [
    "100-34\n"
   ]
  },
  {
   "cell_type": "code",
   "execution_count": 6,
   "id": "a066eb5a",
   "metadata": {},
   "outputs": [
    {
     "data": {
      "text/plain": [
       "-1603520.69"
      ]
     },
     "execution_count": 6,
     "metadata": {},
     "output_type": "execute_result"
    }
   ],
   "source": [
    "23.89*-67121"
   ]
  },
  {
   "cell_type": "code",
   "execution_count": 7,
   "id": "388ef3ba",
   "metadata": {},
   "outputs": [
    {
     "data": {
      "text/plain": [
       "14"
      ]
     },
     "execution_count": 7,
     "metadata": {},
     "output_type": "execute_result"
    }
   ],
   "source": [
    "100//7"
   ]
  },
  {
   "cell_type": "code",
   "execution_count": 8,
   "id": "f5bd598c",
   "metadata": {},
   "outputs": [
    {
     "data": {
      "text/plain": [
       "2"
      ]
     },
     "execution_count": 8,
     "metadata": {},
     "output_type": "execute_result"
    }
   ],
   "source": [
    "100%7"
   ]
  },
  {
   "cell_type": "code",
   "execution_count": 9,
   "id": "708a6dc6",
   "metadata": {},
   "outputs": [
    {
     "data": {
      "text/plain": [
       "125"
      ]
     },
     "execution_count": 9,
     "metadata": {},
     "output_type": "execute_result"
    }
   ],
   "source": [
    "5 ** 3"
   ]
  },
  {
   "cell_type": "code",
   "execution_count": 10,
   "id": "86b74969",
   "metadata": {},
   "outputs": [
    {
     "data": {
      "text/plain": [
       "31.5"
      ]
     },
     "execution_count": 10,
     "metadata": {},
     "output_type": "execute_result"
    }
   ],
   "source": [
    "((5*4)+(8+6)-(5/2))"
   ]
  },
  {
   "cell_type": "code",
   "execution_count": 11,
   "id": "0308c754",
   "metadata": {},
   "outputs": [],
   "source": [
    "cost_of_ice= 56\n"
   ]
  },
  {
   "cell_type": "code",
   "execution_count": 12,
   "id": "012507dc",
   "metadata": {},
   "outputs": [],
   "source": [
    "Profit_margin=.2\n"
   ]
  },
  {
   "cell_type": "code",
   "execution_count": 13,
   "id": "78cbe0ea",
   "metadata": {},
   "outputs": [],
   "source": [
    "number_of_bags=600"
   ]
  },
  {
   "cell_type": "code",
   "execution_count": 16,
   "id": "59b2cddf",
   "metadata": {},
   "outputs": [
    {
     "name": "stdout",
     "output_type": "stream",
     "text": [
      "The total profit is Rs 6720.000000000001\n"
     ]
    }
   ],
   "source": [
    "#Details given\n",
    "cost_of_ice= 56\n",
    "Profit_margin=.2\n",
    "number_of_bags=600\n",
    "\n",
    "#formulas for further calculation\n",
    "profit_per_bag = cost_of_ice* Profit_margin\n",
    "total_profit = number_of_bags * profit_per_bag\n",
    "\n",
    "#result\n",
    "print(\"The total profit is Rs\" , total_profit )"
   ]
  },
  {
   "cell_type": "code",
   "execution_count": 18,
   "id": "d7955194",
   "metadata": {},
   "outputs": [],
   "source": [
    "First_number = 1\n",
    "Second_number =5\n",
    "Third_number = 3"
   ]
  },
  {
   "cell_type": "code",
   "execution_count": 19,
   "id": "65721908",
   "metadata": {},
   "outputs": [
    {
     "data": {
      "text/plain": [
       "False"
      ]
     },
     "execution_count": 19,
     "metadata": {},
     "output_type": "execute_result"
    }
   ],
   "source": [
    "Third_number == 5"
   ]
  },
  {
   "cell_type": "code",
   "execution_count": 20,
   "id": "584b32d6",
   "metadata": {},
   "outputs": [
    {
     "data": {
      "text/plain": [
       "True"
      ]
     },
     "execution_count": 20,
     "metadata": {},
     "output_type": "execute_result"
    }
   ],
   "source": [
    "First_number != Second_number"
   ]
  },
  {
   "cell_type": "code",
   "execution_count": 21,
   "id": "9dc80d75",
   "metadata": {},
   "outputs": [
    {
     "data": {
      "text/plain": [
       "False"
      ]
     },
     "execution_count": 21,
     "metadata": {},
     "output_type": "execute_result"
    }
   ],
   "source": [
    "First_number > Third_number"
   ]
  },
  {
   "cell_type": "code",
   "execution_count": 22,
   "id": "c1dab523",
   "metadata": {},
   "outputs": [
    {
     "data": {
      "text/plain": [
       "True"
      ]
     },
     "execution_count": 22,
     "metadata": {},
     "output_type": "execute_result"
    }
   ],
   "source": [
    "Third_number < Second_number"
   ]
  },
  {
   "cell_type": "code",
   "execution_count": 23,
   "id": "35a417f8",
   "metadata": {},
   "outputs": [
    {
     "data": {
      "text/plain": [
       "True"
      ]
     },
     "execution_count": 23,
     "metadata": {},
     "output_type": "execute_result"
    }
   ],
   "source": [
    "First_number >= 1"
   ]
  },
  {
   "cell_type": "code",
   "execution_count": 24,
   "id": "a483a071",
   "metadata": {},
   "outputs": [
    {
     "data": {
      "text/plain": [
       "True"
      ]
     },
     "execution_count": 24,
     "metadata": {},
     "output_type": "execute_result"
    }
   ],
   "source": [
    "6 + 9 <= 15"
   ]
  },
  {
   "cell_type": "code",
   "execution_count": 28,
   "id": "bc9d6aad",
   "metadata": {},
   "outputs": [
    {
     "name": "stdout",
     "output_type": "stream",
     "text": [
      "Is ice expensive? 12.5\n"
     ]
    }
   ],
   "source": [
    "cost_of_ice= is_ice_expensive= 12.5 \n",
    "is_ice_expensive >= 14\n",
    "print(\"Is ice expensive?\", is_ice_expensive)"
   ]
  },
  {
   "cell_type": "code",
   "execution_count": 29,
   "id": "9c576481",
   "metadata": {},
   "outputs": [
    {
     "ename": "NameError",
     "evalue": "name 'first_number' is not defined",
     "output_type": "error",
     "traceback": [
      "\u001b[1;31m---------------------------------------------------------------------------\u001b[0m",
      "\u001b[1;31mNameError\u001b[0m                                 Traceback (most recent call last)",
      "\u001b[1;32m<ipython-input-29-14d356f4c931>\u001b[0m in \u001b[0;36m<module>\u001b[1;34m\u001b[0m\n\u001b[1;32m----> 1\u001b[1;33m \u001b[0mfirst_number\u001b[0m \u001b[1;33m>\u001b[0m \u001b[1;36m0\u001b[0m \u001b[1;32mand\u001b[0m \u001b[0msecond_number\u001b[0m \u001b[1;33m<=\u001b[0m \u001b[1;36m3\u001b[0m\u001b[1;33m\u001b[0m\u001b[1;33m\u001b[0m\u001b[0m\n\u001b[0m",
      "\u001b[1;31mNameError\u001b[0m: name 'first_number' is not defined"
     ]
    }
   ],
   "source": [
    "first_number > 0 and second_number <= 3"
   ]
  },
  {
   "cell_type": "code",
   "execution_count": 30,
   "id": "0ed67e87",
   "metadata": {},
   "outputs": [],
   "source": [
    "First_number = 1\n",
    "Second_number =5\n",
    "Third_number = 3"
   ]
  },
  {
   "cell_type": "code",
   "execution_count": 31,
   "id": "a5dbf9bc",
   "metadata": {},
   "outputs": [
    {
     "data": {
      "text/plain": [
       "False"
      ]
     },
     "execution_count": 31,
     "metadata": {},
     "output_type": "execute_result"
    }
   ],
   "source": [
    "First_number > 0 and Second_number <= 3"
   ]
  },
  {
   "cell_type": "code",
   "execution_count": 32,
   "id": "88219e33",
   "metadata": {},
   "outputs": [
    {
     "data": {
      "text/plain": [
       "True"
      ]
     },
     "execution_count": 32,
     "metadata": {},
     "output_type": "execute_result"
    }
   ],
   "source": [
    "Second_number > 2 or First_number <= 1"
   ]
  },
  {
   "cell_type": "code",
   "execution_count": 33,
   "id": "9a357420",
   "metadata": {},
   "outputs": [
    {
     "data": {
      "text/plain": [
       "True"
      ]
     },
     "execution_count": 33,
     "metadata": {},
     "output_type": "execute_result"
    }
   ],
   "source": [
    "Third_number == 3 or First_number < 0"
   ]
  },
  {
   "cell_type": "code",
   "execution_count": 34,
   "id": "775b564f",
   "metadata": {},
   "outputs": [
    {
     "data": {
      "text/plain": [
       "True"
      ]
     },
     "execution_count": 34,
     "metadata": {},
     "output_type": "execute_result"
    }
   ],
   "source": [
    "First_number != 3 or Second_number < 0"
   ]
  },
  {
   "cell_type": "code",
   "execution_count": 35,
   "id": "c2948f66",
   "metadata": {},
   "outputs": [
    {
     "data": {
      "text/plain": [
       "True"
      ]
     },
     "execution_count": 35,
     "metadata": {},
     "output_type": "execute_result"
    }
   ],
   "source": [
    "First_number < 0 or True"
   ]
  },
  {
   "cell_type": "code",
   "execution_count": 36,
   "id": "6cc2624b",
   "metadata": {},
   "outputs": [
    {
     "data": {
      "text/plain": [
       "False"
      ]
     },
     "execution_count": 36,
     "metadata": {},
     "output_type": "execute_result"
    }
   ],
   "source": [
    "False or False"
   ]
  },
  {
   "cell_type": "code",
   "execution_count": 37,
   "id": "6a9836f8",
   "metadata": {},
   "outputs": [
    {
     "data": {
      "text/plain": [
       "False"
      ]
     },
     "execution_count": 37,
     "metadata": {},
     "output_type": "execute_result"
    }
   ],
   "source": [
    "not Third_number == 3"
   ]
  },
  {
   "cell_type": "code",
   "execution_count": 38,
   "id": "5cf33bb1",
   "metadata": {},
   "outputs": [
    {
     "data": {
      "text/plain": [
       "True"
      ]
     },
     "execution_count": 38,
     "metadata": {},
     "output_type": "execute_result"
    }
   ],
   "source": [
    "not First_number < 0"
   ]
  },
  {
   "cell_type": "code",
   "execution_count": 39,
   "id": "877d44b8",
   "metadata": {},
   "outputs": [
    {
     "data": {
      "text/plain": [
       "True"
      ]
     },
     "execution_count": 39,
     "metadata": {},
     "output_type": "execute_result"
    }
   ],
   "source": [
    "(2 > 7 and 6 > 5) or not (First_number < 0 and True)"
   ]
  },
  {
   "cell_type": "code",
   "execution_count": 40,
   "id": "1355bd3b",
   "metadata": {},
   "outputs": [
    {
     "data": {
      "text/plain": [
       "False"
      ]
     },
     "execution_count": 40,
     "metadata": {},
     "output_type": "execute_result"
    }
   ],
   "source": [
    "False and True"
   ]
  },
  {
   "cell_type": "code",
   "execution_count": 42,
   "id": "c94c8a1c",
   "metadata": {},
   "outputs": [
    {
     "data": {
      "text/plain": [
       "True"
      ]
     },
     "execution_count": 42,
     "metadata": {},
     "output_type": "execute_result"
    }
   ],
   "source": [
    "True and True\n"
   ]
  },
  {
   "cell_type": "code",
   "execution_count": 43,
   "id": "fbb8e384",
   "metadata": {},
   "outputs": [
    {
     "data": {
      "text/plain": [
       "False"
      ]
     },
     "execution_count": 43,
     "metadata": {},
     "output_type": "execute_result"
    }
   ],
   "source": [
    "False or not True"
   ]
  },
  {
   "cell_type": "code",
   "execution_count": 44,
   "id": "0ed01784",
   "metadata": {},
   "outputs": [
    {
     "data": {
      "text/plain": [
       "False"
      ]
     },
     "execution_count": 44,
     "metadata": {},
     "output_type": "execute_result"
    }
   ],
   "source": [
    "not True and 0 < 1 or False and True"
   ]
  },
  {
   "cell_type": "code",
   "execution_count": 47,
   "id": "e3cd00a3",
   "metadata": {},
   "outputs": [
    {
     "name": "stdout",
     "output_type": "stream",
     "text": [
      "total cost of grocery is 180\n"
     ]
    }
   ],
   "source": [
    "#Items of grocery\n",
    "\n",
    "# 1.Banana\n",
    "# 2.Potato\n",
    "# 3.Guava\n",
    "\n",
    "Banana=a=50\n",
    "Potato=b=70\n",
    "Guava=c=60\n",
    "\n",
    "print(\"total cost of grocery is\", a+b+c)\n"
   ]
  },
  {
   "cell_type": "code",
   "execution_count": 48,
   "id": "414e1145",
   "metadata": {},
   "outputs": [],
   "source": [
    "!pip install jovian --upgrade --quiet"
   ]
  },
  {
   "cell_type": "code",
   "execution_count": 49,
   "id": "88598f03",
   "metadata": {},
   "outputs": [],
   "source": [
    "import jovian"
   ]
  },
  {
   "cell_type": "code",
   "execution_count": 50,
   "id": "cc6b081e",
   "metadata": {},
   "outputs": [
    {
     "data": {
      "application/javascript": [
       "window.require && require([\"base/js/namespace\"],function(Jupyter){Jupyter.notebook.save_checkpoint()})"
      ],
      "text/plain": [
       "<IPython.core.display.Javascript object>"
      ]
     },
     "metadata": {},
     "output_type": "display_data"
    },
    {
     "name": "stdout",
     "output_type": "stream",
     "text": [
      "[jovian] Updating notebook \"ignimakoo/first-steps-with-python\" on https://jovian.ai/\n",
      "[jovian] Committed successfully! https://jovian.ai/ignimakoo/first-steps-with-python\n"
     ]
    },
    {
     "data": {
      "text/plain": [
       "'https://jovian.ai/ignimakoo/first-steps-with-python'"
      ]
     },
     "execution_count": 50,
     "metadata": {},
     "output_type": "execute_result"
    }
   ],
   "source": [
    "jovian.commit(project='first-steps-with-python')"
   ]
  },
  {
   "cell_type": "code",
   "execution_count": null,
   "id": "6d16b3a8",
   "metadata": {},
   "outputs": [],
   "source": []
  }
 ],
 "metadata": {
  "kernelspec": {
   "display_name": "Python 3",
   "language": "python",
   "name": "python3"
  },
  "language_info": {
   "codemirror_mode": {
    "name": "ipython",
    "version": 3
   },
   "file_extension": ".py",
   "mimetype": "text/x-python",
   "name": "python",
   "nbconvert_exporter": "python",
   "pygments_lexer": "ipython3",
   "version": "3.8.8"
  }
 },
 "nbformat": 4,
 "nbformat_minor": 5
}
